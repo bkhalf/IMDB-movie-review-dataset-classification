{
  "cells": [
    {
      "cell_type": "markdown",
      "metadata": {
        "id": "view-in-github",
        "colab_type": "text"
      },
      "source": [
        "<a href=\"https://colab.research.google.com/github/bkhalf/IMDB-movie-review-dataset-classification/blob/main/Classical_Machine_Learning_.ipynb\" target=\"_parent\"><img src=\"https://colab.research.google.com/assets/colab-badge.svg\" alt=\"Open In Colab\"/></a>"
      ]
    },
    {
      "cell_type": "markdown",
      "metadata": {
        "id": "iNIkHV6-lvKH"
      },
      "source": [
        "#Download Data"
      ]
    },
    {
      "cell_type": "code",
      "execution_count": null,
      "metadata": {
        "id": "7La6JFCbcIG0"
      },
      "outputs": [],
      "source": [
        "# dowenload the data\n",
        "!wget -cq https://ai.stanford.edu/~amaas/data/sentiment/aclImdb_v1.tar.gz\n",
        "import tarfile\n",
        "tar = tarfile.open(\"aclImdb_v1.tar.gz\")\n",
        "tar.extractall()\n",
        "tar.close()\n",
        "!rm -r aclImdb_v1.tar.gz"
      ]
    },
    {
      "cell_type": "markdown",
      "metadata": {
        "id": "jE5-dFloTW7y"
      },
      "source": [
        "#Download Model"
      ]
    },
    {
      "cell_type": "code",
      "execution_count": null,
      "metadata": {
        "id": "NnllVejXcJBF"
      },
      "outputs": [],
      "source": [
        "# download the word vector\n",
        "!pip install --upgrade gensim;\n",
        "!wget -cq https://dl.fbaipublicfiles.com/fasttext/vectors-english/wiki-news-300d-1M.vec.zip;\n",
        "!unzip wiki-news-300d-1M.vec.zip;\n",
        "!rm -r wiki-news-300d-1M.vec.zip;"
      ]
    },
    {
      "cell_type": "markdown",
      "metadata": {
        "id": "3OSblXNAl0fE"
      },
      "source": [
        "# Import Libraries "
      ]
    },
    {
      "cell_type": "code",
      "execution_count": null,
      "metadata": {
        "id": "QPoBTtu3caP8"
      },
      "outputs": [],
      "source": [
        "import numpy as np\n",
        "import pandas as pd\n",
        "import string\n",
        "import nltk\n",
        "nltk.download('punkt')\n",
        "nltk.download('stopwords')\n",
        "nltk.download('wordnet')\n",
        "import os\n",
        "import re\n",
        "import io\n",
        "from gensim.models import Word2Vec,KeyedVectors,doc2vec\n",
        "from sklearn.feature_extraction.text import TfidfVectorizer\n",
        "from sklearn import neighbors\n",
        "from sklearn.model_selection import GridSearchCV\n",
        "from sklearn import metrics\n",
        "from sklearn.linear_model import LogisticRegression\n",
        "from sklearn.ensemble import AdaBoostClassifier\n",
        "from sklearn.ensemble import RandomForestClassifier\n",
        "from sklearn.svm import LinearSVC\n",
        "from sklearn.pipeline import make_pipeline\n",
        "from sklearn.preprocessing import StandardScaler\n",
        "import matplotlib.pyplot as plt\n",
        "from scipy import sparse\n",
        "import scipy.sparse as sps\n",
        "# import gensim.downloader as api"
      ]
    },
    {
      "cell_type": "markdown",
      "metadata": {
        "id": "SCLCUdUGZYB_"
      },
      "source": [
        "# Load Data from folders"
      ]
    },
    {
      "cell_type": "code",
      "execution_count": null,
      "metadata": {
        "id": "R9NieUbXcqXf"
      },
      "outputs": [],
      "source": [
        "# load trainnig and Test data\n",
        "def load_from_dir(sub_path):\n",
        "  path = sub_path+\"/pos\"\n",
        "  os.chdir(path)\n",
        "  data = []\n",
        "  def read_text_file(file_path ):\n",
        "      with open(file_path, 'r') as f:\n",
        "          return f.read()\n",
        "    \n",
        "  # iterate through all file\n",
        "  for file in os.listdir():\n",
        "      # Check whether file is in text format or not\n",
        "      if file.endswith(\".txt\"):\n",
        "          file_path = file\n",
        "          # file_path = f\"{path}\\{file}\"\n",
        "    \n",
        "          # call read text file function\n",
        "          temp = read_text_file(file_path)\n",
        "          data.append([temp, (1)])\n",
        "  # load negative trainnig data\n",
        "  path = sub_path+\"/neg\"\n",
        "  os.chdir(path)\n",
        "    \n",
        "  # iterate through all file\n",
        "  for file in os.listdir():\n",
        "      # Check whether file is in text format or not\n",
        "      if file.endswith(\".txt\"):\n",
        "          file_path = file\n",
        "          # file_path = f\"{path}\\{file}\"\n",
        "    \n",
        "          # call read text file function\n",
        "          temp = read_text_file(file_path)\n",
        "          data.append([temp, (0)])\n",
        "\n",
        "  os.chdir(\"/content/\")\n",
        "  return pd.DataFrame (data, columns = ['review','class'])\n"
      ]
    },
    {
      "cell_type": "code",
      "source": [
        "# take 10% from the train data to create the validation\n",
        "def get_validation(df):\n",
        "  validation = df.sample(frac = .1)\n",
        "  df = df.drop(validation.index)\n",
        "  return df, validation"
      ],
      "metadata": {
        "id": "jorhHO-RkDcK"
      },
      "execution_count": null,
      "outputs": []
    },
    {
      "cell_type": "markdown",
      "metadata": {
        "id": "auForvA6ZjbN"
      },
      "source": [
        "#Text Pre-processing"
      ]
    },
    {
      "cell_type": "code",
      "execution_count": null,
      "metadata": {
        "id": "EUgdE0y3iDGy"
      },
      "outputs": [],
      "source": [
        "#remove punctuation\n",
        "def remove_punctuation(text):\n",
        "    punctuationfree=\"\".join([i for i in text if i not in string.punctuation])\n",
        "    return punctuationfree\n",
        "\n",
        "# Stop word removal: \n",
        "stopwords = nltk.corpus.stopwords.words('english')\n",
        "newStopWords = ['.',',','\"','(',')','<','>','[',']','{','}','.',',','/','\\\\','|','\\'ve']\n",
        "stopwords.extend(newStopWords)\n",
        "def remove_stopwords(text):\n",
        "    output= [i for i in text if i not in stopwords]\n",
        "    return output\n",
        "\n",
        "# stemming\n",
        "# def stemming(text):\n",
        "  # porter_stemmer = nltk.stem.porter.PorterStemmer()\n",
        "  #   stem_text = [porter_stemmer.stem(word) for word in text]\n",
        "  #   return stem_text\n",
        "  \n",
        "# lemmatization\n",
        "def lemmatizer(text):\n",
        "  wordnet_lemmatizer = nltk.stem.WordNetLemmatizer()\n",
        "  lemm_text = [wordnet_lemmatizer.lemmatize(word) for word in text]\n",
        "  return lemm_text\n"
      ]
    },
    {
      "cell_type": "code",
      "execution_count": null,
      "metadata": {
        "id": "eXaDXLkSh8RG"
      },
      "outputs": [],
      "source": [
        "def preproccessing(data):\n",
        "  #storing the puntuation free text\n",
        "  data['review']= data['review'].apply(lambda x:remove_punctuation(x))\n",
        "  # convert all the txt to lower\n",
        "  data['review']= data['review'].apply(lambda x: x.lower())\n",
        "  # Tokenization\n",
        "  data['review'] = data['review'].apply(lambda x: nltk.word_tokenize(x))\n",
        "  # Stop word removal: \n",
        "  data['review']= data['review'].apply(lambda x:remove_stopwords(x))\n",
        "  # stemming\n",
        "  # data['review']=data['review'].apply(lambda x: stemming(x)) \n",
        "  # lemmatization\n",
        "  data['review']=data['review'].apply(lambda x:lemmatizer(x))\n",
        "  return data\n"
      ]
    },
    {
      "cell_type": "markdown",
      "metadata": {
        "id": "9HaR2g_FelEW"
      },
      "source": [
        "# Load Data in variables"
      ]
    },
    {
      "cell_type": "code",
      "execution_count": null,
      "metadata": {
        "id": "ob6-yOa9jFC2"
      },
      "outputs": [],
      "source": [
        "train = load_from_dir(\"/content/aclImdb/train\")\n",
        "train_withoutPre = train.copy()\n",
        "train, val = get_validation(train)\n",
        "val_withoutPre = val.copy()\n",
        "train = preproccessing(train)\n",
        "val = preproccessing(val)"
      ]
    },
    {
      "cell_type": "code",
      "execution_count": null,
      "metadata": {
        "id": "qgK2_hvTjF0K"
      },
      "outputs": [],
      "source": [
        "test = load_from_dir(\"/content/aclImdb/test\")\n",
        "test_withoutPre = test.copy()\n",
        "test = preproccessing(test)\n"
      ]
    },
    {
      "cell_type": "markdown",
      "source": [
        "# **TF-IDF feature vectorizer methods**"
      ],
      "metadata": {
        "id": "gb94jxRPjc-L"
      }
    },
    {
      "cell_type": "code",
      "execution_count": null,
      "metadata": {
        "id": "mZgppMKpA6ie"
      },
      "outputs": [],
      "source": [
        "# change the format to fit in classifiers\n",
        "def change_format(data):\n",
        "  x = []\n",
        "  y = []\n",
        "  while len(data) != 0:\n",
        "    # df.iloc[row_start:row_end , col_start, col_end]\n",
        "    s = \" \"\n",
        "    v = data.iloc[ 0, :]\n",
        "    x.append(s.join(v['review']))\n",
        "    y.append(v['class'])\n",
        "    data = data.iloc[1: , :]\n",
        "  return x, y"
      ]
    },
    {
      "cell_type": "code",
      "execution_count": null,
      "metadata": {
        "id": "ztluM6RaPV2e"
      },
      "outputs": [],
      "source": [
        "# used to prevent the TfidfVectorizer from preprocess the data \n",
        "def preprocess_overwrite(text):\n",
        "  return text\n",
        "def tokenizer_overwrite(text):\n",
        "  return text.split()"
      ]
    },
    {
      "cell_type": "code",
      "execution_count": null,
      "metadata": {
        "id": "sEykvS2CKh7r"
      },
      "outputs": [],
      "source": [
        "#Vectorize using sklearn \n",
        "def vectorize(data):\n",
        "  vectorizer = TfidfVectorizer(preprocessor = preprocess_overwrite, tokenizer = tokenizer_overwrite)\n",
        "  response = vectorizer.fit(data)\n",
        "  # feature_names = vectorizer.get_feature_names_out()\n",
        "  return response"
      ]
    },
    {
      "cell_type": "markdown",
      "source": [
        "# **Gensim word embedding methods**"
      ],
      "metadata": {
        "id": "fKPQ2gYPlUkB"
      }
    },
    {
      "cell_type": "code",
      "source": [
        "# convert the data to doc2vec.TaggedDocument to be able to train Dpc2Vec Model\n",
        "def convert_corpus(data):\n",
        "  for i,line in enumerate(data):\n",
        "    yield doc2vec.TaggedDocument(line, [i])\n"
      ],
      "metadata": {
        "id": "SlmIFbD_WiU7"
      },
      "execution_count": null,
      "outputs": []
    },
    {
      "cell_type": "code",
      "execution_count": null,
      "metadata": {
        "id": "lqn-zx0KNz47"
      },
      "outputs": [],
      "source": [
        "# change the data type of data from Data frame to two lists\n",
        "def change_format_embedded(data):\n",
        "  x = []\n",
        "  y = []\n",
        "  while len(data) != 0:\n",
        "    # df.iloc[row_start:row_end , col_start, col_end]\n",
        "    v = data.iloc[ 0, :]\n",
        "    x.append(v['review'])\n",
        "    y.append(v['class'])\n",
        "    data = data.iloc[1: , :]\n",
        "  return x,y\n",
        "  "
      ]
    },
    {
      "cell_type": "code",
      "source": [
        "# create Data Matrix\n",
        "def create_embedded_matrix(lst,cl):\n",
        "  ans = []\n",
        "  new_y = []\n",
        "  while len(lst) != 0:\n",
        "    t = lst.pop()\n",
        "    ny = cl.pop()\n",
        "    ans.append(model.infer_vector(t))\n",
        "    new_y.append(ny)\n",
        "      \n",
        "    \n",
        "  return ans, new_y"
      ],
      "metadata": {
        "id": "1f_bfY6LCIOX"
      },
      "execution_count": null,
      "outputs": []
    },
    {
      "cell_type": "markdown",
      "metadata": {
        "id": "_pLP1aHTH0V7"
      },
      "source": [
        "# **Tuning Paramters**"
      ]
    },
    {
      "cell_type": "code",
      "execution_count": null,
      "metadata": {
        "id": "Qb_M8vylNjb_"
      },
      "outputs": [],
      "source": [
        "# tunning on k-nn to choose best K\n",
        "def knn_tune( x_t,y_t,x_v,y_v):\n",
        "  max_score = 0\n",
        "  wanted = 0\n",
        "  samples = []\n",
        "  accuracy = []\n",
        "  test_k = [50, 100, 150, 200, 250, 300, 350, 400, 450, 500]\n",
        "  for k in test_k:\n",
        "    knn = neighbors.KNeighborsClassifier(n_neighbors = k,algorithm='ball_tree')\n",
        "    knn.fit(x_t, y_t)\n",
        "\n",
        "    knn_prediction = knn.predict(x_v)\n",
        "    predict = metrics.accuracy_score(y_v, knn_prediction)\n",
        "    if predict > max_score :\n",
        "      max_score = predict \n",
        "      wanted = k\n",
        "    samples.append(k)\n",
        "    accuracy.append(predict)\n",
        "\n",
        "  return wanted , samples , accuracy\n"
      ]
    },
    {
      "cell_type": "code",
      "execution_count": null,
      "metadata": {
        "id": "ttuNUW_h0qWq"
      },
      "outputs": [],
      "source": [
        "# tunning on AdaBoost to choose best n_estimators\n",
        "def adaBoost_tune(n_estimators, x_t,y_t,x_v,y_v):\n",
        "  max_score = 0\n",
        "  wanted = 0\n",
        "  estimators=[]\n",
        "  accuracy = []\n",
        "  for n_estimator in n_estimators:\n",
        "    AdaBoost_model = AdaBoostClassifier(n_estimators=n_estimator, random_state=0)\n",
        "    AdaBoost_model.fit(x_t, y_t)\n",
        "    AdaBoost_predict = AdaBoost_model.predict(x_v)\n",
        "    predict = metrics.accuracy_score(y_v, AdaBoost_predict)\n",
        "    if predict > max_score :\n",
        "      max_score = predict \n",
        "      wanted = n_estimator\n",
        "    estimators.append(n_estimator)\n",
        "    accuracy.append(predict)\n",
        "  return wanted , estimators , accuracy"
      ]
    },
    {
      "cell_type": "code",
      "execution_count": null,
      "metadata": {
        "id": "qFXyYt0H-A8y"
      },
      "outputs": [],
      "source": [
        "# # tunning on Logistic Regresiion to choose best itration\n",
        "# def logisticRegression_tune(max_iters,x_t,y_t,x_v,y_v):\n",
        "#   max_score = 0\n",
        "#   wanted = 0\n",
        "#   for itr in max_iters:\n",
        "#     Logistic_model = LogisticRegression(random_state=0,max_iter=itr).fit(x_t, y_t)\n",
        "#     Logistic_predict = Logistic_model.predict(x_v)\n",
        "#     predict = metrics.accuracy_score(y_v, Logistic_predict)\n",
        "#     if predict > max_score :\n",
        "#       max_score = predict \n",
        "#       wanted = itr\n",
        "#   return wanted"
      ]
    },
    {
      "cell_type": "code",
      "execution_count": null,
      "metadata": {
        "id": "rDGWvdYOAqh2"
      },
      "outputs": [],
      "source": [
        "# tunning on Random Forest to choose best depth\n",
        "def randomForest_tune(max_depths,x_t,y_t,x_v,y_v):\n",
        "  max_score = 0\n",
        "  wanted = 0\n",
        "  samples = []\n",
        "  accuracy = []\n",
        "  for depth in max_depths:\n",
        "    RandomForest_model = RandomForestClassifier(max_depth=depth, random_state=0)\n",
        "    RandomForest_model.fit(x_t, y_t)\n",
        "    RandomForest_predict = RandomForest_model.predict(x_v)\n",
        "    predict = metrics.accuracy_score(y_v, RandomForest_predict)\n",
        "    if predict > max_score :\n",
        "      max_score = predict \n",
        "      wanted = depth\n",
        "    samples.append(depth)\n",
        "    accuracy.append(predict)\n",
        "  return wanted , samples , accuracy"
      ]
    },
    {
      "cell_type": "code",
      "execution_count": null,
      "metadata": {
        "id": "YLZXQN1dFeTu"
      },
      "outputs": [],
      "source": [
        "# # tunning on Linear SVC to choose best Itr\n",
        "# def linearSVC_tune(max_iters,x_t,y_t,x_v,y_v):\n",
        "#   max_score = 0\n",
        "#   wanted = 0\n",
        "#   for itr in max_iters:\n",
        "#     LinearSVC_model = make_pipeline(StandardScaler(with_mean=False),\n",
        "#                    LinearSVC(random_state=0, tol=1e-5,max_iter=itr))\n",
        "#     LinearSVC_model.fit(x_t, y_t)\n",
        "#     LinearSVC_predict = LinearSVC_model.predict(x_v)\n",
        "\n",
        "#     predict = metrics.accuracy_score(y_v, LinearSVC_predict)\n",
        "#     if predict > max_score :\n",
        "#       max_score = predict \n",
        "#       wanted = itr\n",
        "#   return wanted"
      ]
    },
    {
      "cell_type": "code",
      "execution_count": null,
      "metadata": {
        "id": "80GIJXxWjaQG"
      },
      "outputs": [],
      "source": [
        "def tune_all(x_t,y_t,x_v,y_v):\n",
        "  estimators = []\n",
        "  accuracies = []\n",
        "  k,x,y = knn_tune(x_t,y_t,x_v,y_v);  # best is 48\n",
        "  estimators.append(x)\n",
        "  accuracies.append(y)\n",
        "  no_iterations = [300,400,500,600,700]\n",
        "  estimator,x,y = adaBoost_tune(no_iterations,x_t,y_t,x_v,y_v);  # best is 500 ## put no_estimators\n",
        "  estimators.append(x)\n",
        "  accuracies.append(y)\n",
        "  max_depths = np.linspace(start=25, stop=76, endpoint=True)\n",
        "  depth,x,y = randomForest_tune(max_depths,x_t,y_t,x_v,y_v)  #45 ##put depths as a paramter\n",
        "  estimators.append(x)\n",
        "  accuracies.append(y)\n",
        "  return k, estimator, depth , estimators , accuracies"
      ]
    },
    {
      "cell_type": "markdown",
      "metadata": {
        "id": "t1Vo0lhZYgls"
      },
      "source": [
        "# **Classification Methods**"
      ]
    },
    {
      "cell_type": "code",
      "execution_count": null,
      "metadata": {
        "id": "pE6bWEZLa9jM"
      },
      "outputs": [],
      "source": [
        "# KNeighborsClassifier\n",
        "def KNeighborsClassifier(k, x_tr,y_tr,x_ts,y_ts):\n",
        "  knn = neighbors.KNeighborsClassifier(n_neighbors = k,algorithm='ball_tree');\n",
        "  knn.fit(x_tr, y_tr)\n",
        "  knn_prediction = knn.predict(x_ts)\n",
        "  accuracy = metrics.accuracy_score(y_ts, knn_prediction)\n",
        "  return accuracy"
      ]
    },
    {
      "cell_type": "code",
      "execution_count": null,
      "metadata": {
        "id": "YyIo0Ab4wbYz"
      },
      "outputs": [],
      "source": [
        "# LogisticRegression\n",
        "def LogisticClassifier(x_tr,y_tr,x_ts,y_ts):\n",
        "  Logistic_model = LogisticRegression(random_state=0,max_iter=100).fit(x_tr, y_tr)\n",
        "  Logistic_predict = Logistic_model.predict(x_ts)\n",
        "  accuracy = metrics.accuracy_score(y_ts, Logistic_predict)\n",
        "  return accuracy"
      ]
    },
    {
      "cell_type": "code",
      "execution_count": null,
      "metadata": {
        "id": "AsOVmW6BC-Gj"
      },
      "outputs": [],
      "source": [
        "# AdaBoost\n",
        "def AdaBoost(estimator,x_tr,y_tr,x_ts,y_ts):\n",
        "  AdaBoost_model = AdaBoostClassifier(n_estimators=estimator, random_state=0)\n",
        "  AdaBoost_model.fit(x_tr, y_tr)\n",
        "  AdaBoost_predict = AdaBoost_model.predict(x_ts)\n",
        "  accuracy = metrics.accuracy_score(y_ts, AdaBoost_predict)\n",
        "  return accuracy\n"
      ]
    },
    {
      "cell_type": "code",
      "execution_count": null,
      "metadata": {
        "id": "5ZthRjvBEHue"
      },
      "outputs": [],
      "source": [
        "# RandomForestClassifier\n",
        "def RandomForest(depth,x_tr,y_tr,x_ts,y_ts):\n",
        "  RandomForest_model = RandomForestClassifier(max_depth=depth, random_state=0)\n",
        "  RandomForest_model.fit(x_tr, y_tr)\n",
        "  RandomForest_predict = RandomForest_model.predict(x_ts)\n",
        "  accuracy = metrics.accuracy_score(y_ts, RandomForest_predict)\n",
        "  return accuracy\n"
      ]
    },
    {
      "cell_type": "code",
      "execution_count": null,
      "metadata": {
        "id": "e6gr_nanFRHa"
      },
      "outputs": [],
      "source": [
        "# LinearSVC\n",
        "def Linearsvc(x_tr,y_tr,x_ts,y_ts):\n",
        "  LinearSVC_model = make_pipeline(StandardScaler(with_mean=False),\n",
        "                    LinearSVC(random_state=0,  tol=1e-5,max_iter=1000))\n",
        "  LinearSVC_model.fit(x_tr, y_tr)\n",
        "  LinearSVC_predict = LinearSVC_model.predict(x_ts)\n",
        "  accuracy = metrics.accuracy_score(y_ts, LinearSVC_predict)\n",
        "  return accuracy\n"
      ]
    },
    {
      "cell_type": "code",
      "source": [
        "def classify_all( x_tr, y_tr, x_ts, y_ts, k=48, estimator=500,max_depth=45 ):\n",
        "  ls = []\n",
        "  # KNN\n",
        "  ls.append(KNeighborsClassifier(k,x_tr, y_tr, x_ts, y_ts));\n",
        "\n",
        "  # AdaBoost\n",
        "  ls.append(AdaBoost(estimator,x_tr, y_tr, x_ts, y_ts));\n",
        "\n",
        "  # Random Forest\n",
        "  ls.append(RandomForest(max_depth,x_tr, y_tr, x_ts, y_ts));\n",
        "\n",
        "  # Linear SVC \n",
        "  ls.append(Linearsvc(x_tr, y_tr, x_ts, y_ts));\n",
        "\n",
        "  # Logistic Regression \n",
        "  ls.append(LogisticClassifier(x_tr, y_tr, x_ts, y_ts));\n",
        "\n",
        "  return ls"
      ],
      "metadata": {
        "id": "90789H6gMj4o"
      },
      "execution_count": null,
      "outputs": []
    },
    {
      "cell_type": "markdown",
      "source": [
        "# Printing and Ploting methods"
      ],
      "metadata": {
        "id": "BHk3RwRFzgjI"
      }
    },
    {
      "cell_type": "code",
      "source": [
        "def print_all(text, all_classifiers, best_k=0, best_estimator=0, best_depth=0):\n",
        "  print(text)\n",
        "  print(\" KNN - accuracy = \",all_classifiers[0])\n",
        "  if best_k != 0:\n",
        "    print(\" KNN - best K = \",best_k)\n",
        "\n",
        "  print(\" AdaBoost - accuracy = \",all_classifiers[1])\n",
        "  if best_estimator != 0:\n",
        "    print(\" AdaBoost - best n_estimators = \",best_estimator)\n",
        "\n",
        "  print(\" RandomForest - accuracy = \",all_classifiers[2])\n",
        "  if best_depth !=0:\n",
        "    print(\" RandomForest - best Max_depth = \",best_depth)\n",
        "\n",
        "  print(\" LinearSVC - accuracy = \",all_classifiers[3])\n",
        "  print(\" LogisticRegression - accuracy = \",all_classifiers[4])"
      ],
      "metadata": {
        "id": "zrONS4mEMq9U"
      },
      "execution_count": null,
      "outputs": []
    },
    {
      "cell_type": "code",
      "source": [
        "def plot_accuracy(vec_1, vec_2):\n",
        "  classifiers = ['KNN', 'AdaBoost', 'RandomForest', 'LinearSVC', 'LogisticRegression']\n",
        "  with_pre = vec_1\n",
        "  without_pre = vec_2\n",
        "\n",
        "  fig, ax = plt.subplots()\n",
        "  x_len = np.arange(len(classifiers))\n",
        "  width= 0.15\n",
        "\n",
        "  ax.bar(x_len - width/2, with_pre, width, label='with pre_processing', color='#0343df')\n",
        "  ax.bar(x_len + width/2, without_pre, width, label='without pre_processing', color='#929591')\n",
        "\n",
        "  ax.set_ylabel('Accuracy')\n",
        "  ax.set_title('Performance')\n",
        "\n",
        "  ax.set_xticks(x_len)   \n",
        "  ax.set_xticklabels(classifiers, rotation='vertical')\n",
        "  ax.legend()\n",
        "\n",
        "  plt.show();"
      ],
      "metadata": {
        "id": "N34-2nfIzhsD"
      },
      "execution_count": null,
      "outputs": []
    },
    {
      "cell_type": "code",
      "source": [
        "def plot_features(f1,f2):\n",
        "  t = ['with','without']\n",
        "  fig, ax = plt.subplots()\n",
        "  x_len = np.arange(len(t))\n",
        "  width= 0.15\n",
        "\n",
        "  ax.bar(x_len, [f1,f2], width, color='#0343df')\n",
        "  ax.set_ylabel('Number of features')\n",
        "  ax.set_title('Feature choice')\n",
        "\n",
        "  ax.set_xticks(x_len)   \n",
        "  ax.set_xticklabels(t, rotation='vertical')\n",
        "  ax.legend()\n",
        "\n",
        "  plt.show();"
      ],
      "metadata": {
        "id": "VlAacGaN2huz"
      },
      "execution_count": null,
      "outputs": []
    },
    {
      "cell_type": "code",
      "source": [
        "def plot_all_tunning_parameters(estimators,accuracies):\n",
        "  for i in range(len(estimators)):\n",
        "    if i == 0:\n",
        "      fig1, x1 = plt.subplots()\n",
        "      x1.set_xlabel(\"K parameters\")\n",
        "      x1.set_ylabel(\"accuracy\")\n",
        "      x1.plot(estimators[i],accuracies[i])\n",
        "    elif i==1:\n",
        "      fig2, x2 = plt.subplots()\n",
        "      x2.set_xlabel(\"estimator parameters\")\n",
        "      x2.set_ylabel(\"accuracy\")\n",
        "      x2.plot(estimators[i],accuracies[i])\n",
        "    else:\n",
        "      fig3, x3 = plt.subplots()\n",
        "      x3.set_xlabel(\"iterations parameters\")\n",
        "      x3.set_ylabel(\"accuracy\")\n",
        "      x3.plot(estimators[i],accuracies[i])"
      ],
      "metadata": {
        "id": "X7P-rwwC24US"
      },
      "execution_count": null,
      "outputs": []
    },
    {
      "cell_type": "markdown",
      "source": [
        "# **First Apply Machine Learning using TF-IDF feature vectorizer**"
      ],
      "metadata": {
        "id": "EAB3YLkooo40"
      }
    },
    {
      "cell_type": "markdown",
      "metadata": {
        "id": "rM-fEbBAfoPA"
      },
      "source": [
        "# Use Pre-processed data"
      ]
    },
    {
      "cell_type": "code",
      "execution_count": null,
      "metadata": {
        "id": "QUK618OIIRwY"
      },
      "outputs": [],
      "source": [
        "# change the format from dataframe to accepted format by TfidfVectorizer\n",
        "x_train,y_train = change_format(train)\n",
        "x_test,y_test = change_format(test)\n",
        "x_val,y_val = change_format(val)"
      ]
    },
    {
      "cell_type": "code",
      "execution_count": null,
      "metadata": {
        "id": "UcF9DxMegz-s"
      },
      "outputs": [],
      "source": [
        "vec = vectorize(x_train)\n",
        "x_train =  vec.transform(x_train)\n",
        "x_test = vec.transform(x_test)\n",
        "x_val =  vec.transform(x_val)\n",
        "num = x_train.shape[1];"
      ]
    },
    {
      "cell_type": "code",
      "execution_count": null,
      "metadata": {
        "id": "drh00slocdjD"
      },
      "outputs": [],
      "source": [
        "# k, estimator, depth = tune_all(x_train,y_train, x_val, y_val)\n",
        "k, estimator, depth , estimators, accuracies = tune_all(x_train,y_train, x_val, y_val)\n",
        "vectorized_acc = classify_all(x_train, y_train,x_test, y_test, k=k, estimator= estimator, max_depth=depth);"
      ]
    },
    {
      "cell_type": "code",
      "execution_count": null,
      "metadata": {
        "colab": {
          "base_uri": "https://localhost:8080/"
        },
        "id": "y6QhX6_hgC-b",
        "outputId": "5a917f0e-b47b-4d04-a4bf-796fb516f988"
      },
      "outputs": [
        {
          "output_type": "stream",
          "name": "stdout",
          "text": [
            "Classify Pre-processed data using TF-IDF feature vectorize\n",
            " KNN - accuracy =  0.78888\n",
            " KNN - best K =  200\n",
            " AdaBoost - accuracy =  0.85316\n",
            " AdaBoost - best n_estimators =  600\n",
            " RandomForest - accuracy =  0.84924\n",
            " RandomForest - best Max_depth =  70.79591836734694\n",
            " LinearSVC - accuracy =  0.81344\n",
            " LogisticRegression - accuracy =  0.88016\n"
          ]
        }
      ],
      "source": [
        "print_all(\"Classify Pre-processed data using TF-IDF feature vectorize\", vectorized_acc, best_k=k, best_estimator=estimator, best_depth= depth)"
      ]
    },
    {
      "cell_type": "markdown",
      "source": [
        "## Tuned parameters"
      ],
      "metadata": {
        "id": "Umo8wJdW4zSD"
      }
    },
    {
      "cell_type": "code",
      "source": [
        "plot_all_tunning_parameters(estimators, accuracies)"
      ],
      "metadata": {
        "colab": {
          "base_uri": "https://localhost:8080/",
          "height": 802
        },
        "id": "5mcCrQfJ48ij",
        "outputId": "28268d00-8ae9-4120-d951-2579dcbc959f"
      },
      "execution_count": null,
      "outputs": [
        {
          "output_type": "display_data",
          "data": {
            "image/png": "[encoded data removed]",
            "text/plain": [
              "<Figure size 432x288 with 1 Axes>"
            ]
          },
          "metadata": {
            "needs_background": "light"
          }
        },
        {
          "output_type": "display_data",
          "data": {
            "image/png": "[encoded data removed]",
            "text/plain": [
              "<Figure size 432x288 with 1 Axes>"
            ]
          },
          "metadata": {
            "needs_background": "light"
          }
        },
        {
          "output_type": "display_data",
          "data": {
            "image/png": "[encoded data removed]",
            "text/plain": [
              "<Figure size 432x288 with 1 Axes>"
            ]
          },
          "metadata": {
            "needs_background": "light"
          }
        }
      ]
    },
    {
      "cell_type": "markdown",
      "metadata": {
        "id": "ue4EAFL_fvoj"
      },
      "source": [
        "# Use Data without Pre-processing"
      ]
    },
    {
      "cell_type": "code",
      "execution_count": null,
      "metadata": {
        "id": "PP9mE2EXEa93"
      },
      "outputs": [],
      "source": [
        "x_train,y_train = train_withoutPre['review'].copy(),train_withoutPre['class'].copy()\n",
        "x_test,y_test = test_withoutPre['review'].copy(),test_withoutPre['class'].copy()\n",
        "x_val,y_val = val_withoutPre['review'].copy(),val_withoutPre['class'].copy()"
      ]
    },
    {
      "cell_type": "code",
      "execution_count": null,
      "metadata": {
        "id": "OvhlFnE9ghM6"
      },
      "outputs": [],
      "source": [
        "vec_withoutPre = vectorize(x_train)\n",
        "x_train =  vec_withoutPre.transform(x_train)\n",
        "x_test = vec_withoutPre.transform(x_test)\n",
        "x_val =  vec_withoutPre.transform(x_val)\n",
        "num_without = x_train.shape[1];"
      ]
    },
    {
      "cell_type": "code",
      "execution_count": null,
      "metadata": {
        "id": "rcYwbxstZz_t"
      },
      "outputs": [],
      "source": [
        "# k, estimator, depth = tune_all(x_train,y_train, x_val, y_val)\n",
        "vectorized_acc_withoutPre = classify_all(x_train, y_train,x_test, y_test , k=k, estimator= estimator, max_depth=depth)"
      ]
    },
    {
      "cell_type": "code",
      "execution_count": null,
      "metadata": {
        "colab": {
          "base_uri": "https://localhost:8080/"
        },
        "id": "Nnzc92bH13e_",
        "outputId": "dd15f693-b3dc-4fba-8392-b1d2f0331b70"
      },
      "outputs": [
        {
          "output_type": "stream",
          "name": "stdout",
          "text": [
            "Classify data without pre-processing using TF-IDF feature vectorize\n",
            " KNN - accuracy =  0.742\n",
            " AdaBoost - accuracy =  0.84312\n",
            " RandomForest - accuracy =  0.81648\n",
            " LinearSVC - accuracy =  0.8436\n",
            " LogisticRegression - accuracy =  0.8746\n"
          ]
        }
      ],
      "source": [
        "print_all(\"Classify data without pre-processing using TF-IDF feature vectorize\", vectorized_acc_withoutPre)"
      ]
    },
    {
      "cell_type": "markdown",
      "metadata": {
        "id": "w-GzvN23Z7MA"
      },
      "source": [
        "## Pre-processing effect"
      ]
    },
    {
      "cell_type": "code",
      "execution_count": null,
      "metadata": {
        "colab": {
          "base_uri": "https://localhost:8080/",
          "height": 363
        },
        "id": "6j6UOCuvCdq2",
        "outputId": "6d17c8bd-46d8-4fd3-b8ec-bab0b37ca82c"
      },
      "outputs": [
        {
          "output_type": "display_data",
          "data": {
            "image/png": "[encoded data removed]",
            "text/plain": [
              "<Figure size 432x288 with 1 Axes>"
            ]
          },
          "metadata": {
            "needs_background": "light"
          }
        }
      ],
      "source": [
        "plot_accuracy(vectorized_acc, vectorized_acc_withoutPre)"
      ]
    },
    {
      "cell_type": "markdown",
      "metadata": {
        "id": "Sk8Q9uNqarKB"
      },
      "source": [
        "The accuracy didn't improve much with pre-processing"
      ]
    },
    {
      "cell_type": "markdown",
      "metadata": {
        "id": "LKStSA22aD4d"
      },
      "source": [
        "## Features choice"
      ]
    },
    {
      "cell_type": "code",
      "execution_count": null,
      "metadata": {
        "colab": {
          "base_uri": "https://localhost:8080/",
          "height": 326
        },
        "id": "nXnDBQ3EbuBj",
        "outputId": "2d6466cc-7b8b-48e0-e1bd-725e397f5cf8"
      },
      "outputs": [
        {
          "output_type": "stream",
          "name": "stderr",
          "text": [
            "No handles with labels found to put in legend.\n"
          ]
        },
        {
          "output_type": "display_data",
          "data": {
            "image/png": "[encoded data removed]",
            "text/plain": [
              "<Figure size 432x288 with 1 Axes>"
            ]
          },
          "metadata": {
            "needs_background": "light"
          }
        }
      ],
      "source": [
        "plot_features(num, num_without)"
      ]
    },
    {
      "cell_type": "code",
      "execution_count": null,
      "metadata": {
        "colab": {
          "base_uri": "https://localhost:8080/"
        },
        "id": "5ZQiPsWxZ2T8",
        "outputId": "31c6ed11-707e-43fc-b56a-36cabe64c4ec"
      },
      "outputs": [
        {
          "output_type": "stream",
          "name": "stdout",
          "text": [
            "pre_processed data features : 105852\n",
            "Not pre_processed data features : 280617\n"
          ]
        }
      ],
      "source": [
        "print(\"pre_processed data features :\",num)\n",
        "print(\"Not pre_processed data features :\",num_without)\n"
      ]
    },
    {
      "cell_type": "markdown",
      "metadata": {
        "id": "YPNvliaBa9bO"
      },
      "source": [
        "Number of features with pre-processing is much lower than without pre-processing "
      ]
    },
    {
      "cell_type": "markdown",
      "metadata": {
        "id": "oSx0RiiCdhd0"
      },
      "source": [
        "## Failure cases\n",
        "\n",
        "- Tried to implement the Nive Bayes classifier but it requires to convert the sparce array to dense array and this make the data very big and the memory crashes\n",
        "\n",
        "\n",
        "______________________________________________________________________________________________________"
      ]
    },
    {
      "cell_type": "markdown",
      "metadata": {
        "id": "pn0-xHT8r4m8"
      },
      "source": [
        "#**Second Apply Machine Learning using word embedding - Gensim library**\n"
      ]
    },
    {
      "cell_type": "markdown",
      "metadata": {
        "id": "_i933hBuftMq"
      },
      "source": [
        "## Use Pre-processed data"
      ]
    },
    {
      "cell_type": "code",
      "execution_count": null,
      "metadata": {
        "id": "5HGFey72MnSN"
      },
      "outputs": [],
      "source": [
        "# change the data formating and create the Data matrix\n",
        "x_train,y_train = change_format_embedded(train)\n",
        "x_test,y_test = change_format_embedded(test)\n",
        "x_val,y_val = change_format_embedded(val)"
      ]
    },
    {
      "cell_type": "code",
      "source": [
        "# get the required data structure to start modeling\n",
        "train_corpus = list(convert_corpus(x_train))\n",
        "\n",
        "# Train Doc2Vec model\n",
        "model = doc2vec.Doc2Vec(vector_size=50, min_count=2, epochs=40)\n",
        "model.build_vocab(train_corpus)\n",
        "model.train(train_corpus, total_examples=model.corpus_count, epochs=model.epochs)"
      ],
      "metadata": {
        "id": "PsLDKjjTW6qv"
      },
      "execution_count": null,
      "outputs": []
    },
    {
      "cell_type": "code",
      "source": [
        "x_train, y_train = create_embedded_matrix(x_train, y_train)\n",
        "x_test, y_test = create_embedded_matrix(x_test, y_test)\n",
        "x_val,y_val = create_embedded_matrix(x_val,y_val)\n",
        "num = len(x_train[0])"
      ],
      "metadata": {
        "id": "A8UOjw5GC633"
      },
      "execution_count": null,
      "outputs": []
    },
    {
      "cell_type": "code",
      "source": [
        "# k, estimator, depth = tune_all(x_train,y_train, x_val, y_val)\n",
        "embedded_accuracy = classify_all(x_train, y_train,x_test, y_test)"
      ],
      "metadata": {
        "id": "Vl-VBeYiQHSK"
      },
      "execution_count": null,
      "outputs": []
    },
    {
      "cell_type": "code",
      "source": [
        "print_all(\"Classification using Text with Pre-processing\", embedded_accuracy)"
      ],
      "metadata": {
        "colab": {
          "base_uri": "https://localhost:8080/"
        },
        "id": "nOQ5awDcQoeW",
        "outputId": "6834b46d-68f6-443a-99fe-03ff97b0dcb9"
      },
      "execution_count": null,
      "outputs": [
        {
          "output_type": "stream",
          "name": "stdout",
          "text": [
            "Classification using Text with Pre-processing\n",
            " KNN - accuracy =  0.77832\n",
            " AdaBoost - accuracy =  0.78952\n",
            " RandomForest - accuracy =  0.77912\n",
            " LinearSVC - accuracy =  0.80628\n",
            " LogisticRegression - accuracy =  0.80556\n"
          ]
        }
      ]
    },
    {
      "cell_type": "markdown",
      "metadata": {
        "id": "BP4Bb6rd5aY5"
      },
      "source": [
        "# Use Data without Pre-processing"
      ]
    },
    {
      "cell_type": "code",
      "execution_count": null,
      "metadata": {
        "id": "YYTP-_MM5lnw"
      },
      "outputs": [],
      "source": [
        "# change the data formating and create the Data matrix\n",
        "x_train,y_train = change_format_embedded(train_withoutPre)\n",
        "x_test,y_test = change_format_embedded(test_withoutPre)\n",
        "x_val,y_val = change_format_embedded(val_withoutPre)"
      ]
    },
    {
      "cell_type": "code",
      "source": [
        "# get the required data structure to start modeling\n",
        "train_corpus = list(convert_corpus(x_train))\n",
        "\n",
        "# Train Doc2Vec model\n",
        "model = doc2vec.Doc2Vec(vector_size=50, min_count=2, epochs=40)\n",
        "model.build_vocab(train_corpus)\n",
        "model.train(train_corpus, total_examples=model.corpus_count, epochs=model.epochs)"
      ],
      "metadata": {
        "id": "ysUSUwj05lnx"
      },
      "execution_count": null,
      "outputs": []
    },
    {
      "cell_type": "code",
      "source": [
        "x_train, y_train = create_embedded_matrix(x_train, y_train)\n",
        "x_test, y_test = create_embedded_matrix(x_test, y_test)\n",
        "x_val,y_val = create_embedded_matrix(x_val,y_val)\n",
        "num_without = len(x_train[0])"
      ],
      "metadata": {
        "id": "2KR0kiZA5lny"
      },
      "execution_count": null,
      "outputs": []
    },
    {
      "cell_type": "code",
      "source": [
        "# k, estimator, depth = tune_all(x_train,y_train, x_val, y_val)\n",
        "embedded_accuracy_withoutPre = classify_all(x_train, y_train,x_test, y_test)"
      ],
      "metadata": {
        "id": "aYijK0Aw5lny"
      },
      "execution_count": null,
      "outputs": []
    },
    {
      "cell_type": "code",
      "source": [
        "print_all(\"Classification using Text with Pre-processing\", embedded_accuracy_withoutPre)"
      ],
      "metadata": {
        "colab": {
          "base_uri": "https://localhost:8080/"
        },
        "id": "Ri71isEX5lnz",
        "outputId": "1e946664-5e41-4fb3-e69f-5924ea4734bb"
      },
      "execution_count": null,
      "outputs": [
        {
          "output_type": "stream",
          "name": "stdout",
          "text": [
            "Classification using Text with Pre-processing\n",
            " KNN - accuracy =  0.5936\n",
            " AdaBoost - accuracy =  0.61972\n",
            " RandomForest - accuracy =  0.61532\n",
            " LinearSVC - accuracy =  0.63432\n",
            " LogisticRegression - accuracy =  0.63416\n"
          ]
        }
      ]
    },
    {
      "cell_type": "markdown",
      "metadata": {
        "id": "_to2__Jy6qYW"
      },
      "source": [
        "## Pre-processing effect"
      ]
    },
    {
      "cell_type": "code",
      "execution_count": null,
      "metadata": {
        "colab": {
          "base_uri": "https://localhost:8080/",
          "height": 363
        },
        "id": "LtyS97i36qYp",
        "outputId": "53d6f35d-2831-4a7e-cdae-4b7a9a6e3f35"
      },
      "outputs": [
        {
          "output_type": "display_data",
          "data": {
            "image/png": "[encoded data removed]",
            "text/plain": [
              "<Figure size 432x288 with 1 Axes>"
            ]
          },
          "metadata": {
            "needs_background": "light"
          }
        }
      ],
      "source": [
        "plot_accuracy(embedded_accuracy, embedded_accuracy_withoutPre)"
      ]
    },
    {
      "cell_type": "markdown",
      "source": [
        "## pre-processing improve the accuracy with observable value."
      ],
      "metadata": {
        "id": "pcbXGAooNdkV"
      }
    },
    {
      "cell_type": "markdown",
      "metadata": {
        "id": "t2rCh6SX6qYq"
      },
      "source": [
        "## Features choice"
      ]
    },
    {
      "cell_type": "code",
      "execution_count": null,
      "metadata": {
        "colab": {
          "base_uri": "https://localhost:8080/",
          "height": 326
        },
        "id": "e0RaSB8a6qYq",
        "outputId": "211bd861-b84e-4b3f-ac88-89553ffce407"
      },
      "outputs": [
        {
          "output_type": "stream",
          "name": "stderr",
          "text": [
            "No handles with labels found to put in legend.\n"
          ]
        },
        {
          "output_type": "display_data",
          "data": {
            "image/png": "[encoded data removed]",
            "text/plain": [
              "<Figure size 432x288 with 1 Axes>"
            ]
          },
          "metadata": {
            "needs_background": "light"
          }
        }
      ],
      "source": [
        "plot_features(num, num_without)"
      ]
    },
    {
      "cell_type": "code",
      "execution_count": null,
      "metadata": {
        "colab": {
          "base_uri": "https://localhost:8080/"
        },
        "id": "zE9GAfJp6qYr",
        "outputId": "4267bf3f-eec0-41c0-a23e-dd16002fc93e"
      },
      "outputs": [
        {
          "output_type": "stream",
          "name": "stdout",
          "text": [
            "pre_processed data features : 50\n",
            "Not pre_processed data features : 50\n"
          ]
        }
      ],
      "source": [
        "print(\"pre_processed data features :\",num)\n",
        "print(\"Not pre_processed data features :\",num_without)\n"
      ]
    },
    {
      "cell_type": "markdown",
      "source": [
        "First Tried to train the model with vector_size = 50.\n",
        "And tried to do the previous steps with vector_size = 150.\n",
        "But the resulting accuracy didn’t improve with observable value.\n",
        "\n",
        "Besides it take nearly twice the time to convert the data to the wanted data matrix, So it was decided that the vector size will be 50.\n"
      ],
      "metadata": {
        "id": "xhemzLJaJCTU"
      }
    },
    {
      "cell_type": "code",
      "source": [
        ""
      ],
      "metadata": {
        "id": "aEA9xm_jN0DL"
      },
      "execution_count": null,
      "outputs": []
    }
  ],
  "metadata": {
    "colab": {
      "collapsed_sections": [],
      "name": "Classical_Machine_Learning .ipynb",
      "provenance": [],
      "include_colab_link": true
    },
    "kernelspec": {
      "display_name": "Python 3",
      "name": "python3"
    },
    "language_info": {
      "name": "python"
    }
  },
  "nbformat": 4,
  "nbformat_minor": 0
}